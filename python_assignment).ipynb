{
 "cells": [
  {
   "cell_type": "markdown",
   "id": "de095a5e",
   "metadata": {},
   "source": [
    "# Python Programming Fundamentals Assignment\n",
    "## Certification Project\n",
    "This notebook contains solutions to 15 Python programming exercises divided into three sections.\n"
   ]
  },
  {
   "cell_type": "markdown",
   "id": "d213da48",
   "metadata": {},
   "source": [
    "## Section 1: Python Operators and Control Structures"
   ]
  },
  {
   "cell_type": "markdown",
   "id": "45414340",
   "metadata": {},
   "source": [
    "### Question 1: Sum of Numbers in a List"
   ]
  },
  {
   "cell_type": "code",
   "execution_count": 1,
   "id": "53c9d5e4",
   "metadata": {},
   "outputs": [
    {
     "name": "stdout",
     "output_type": "stream",
     "text": [
      "15\n"
     ]
    }
   ],
   "source": [
    "numbers = [1, 2, 3, 4, 5]\n",
    "total = sum(numbers)\n",
    "print(total)  # Output: 15"
   ]
  },
  {
   "cell_type": "markdown",
   "id": "53d1c4f4",
   "metadata": {},
   "source": [
    "The code initializes a list numbers with the values [1, 2, 3, 4, 5] and a variable s to 0,then uses a for loop to iterate through each number in the list, adding each one to the running total s.Finally, it prints the total sum, which is 15."
   ]
  },
  {
   "cell_type": "markdown",
   "id": "4ffb98ff",
   "metadata": {},
   "source": [
    "### Question 2: Output of Exponentiation"
   ]
  },
  {
   "cell_type": "code",
   "execution_count": 2,
   "id": "9a9b7a34",
   "metadata": {},
   "outputs": [
    {
     "name": "stdout",
     "output_type": "stream",
     "text": [
      "25\n"
     ]
    }
   ],
   "source": [
    "x = 5\n",
    "y = 2\n",
    "print(x ** y)  # Output: 25"
   ]
  },
  {
   "cell_type": "markdown",
   "id": "b5332016",
   "metadata": {},
   "source": [
    "The code uses the exponentiation operator ** to calculate 5 raised to the power of 2, resulting in 25, and then prints that result."
   ]
  },
  {
   "cell_type": "markdown",
   "id": "1f044916",
   "metadata": {},
   "source": [
    "### Question 3: Palindrome Check"
   ]
  },
  {
   "cell_type": "code",
   "execution_count": 3,
   "id": "89932074",
   "metadata": {},
   "outputs": [
    {
     "name": "stdout",
     "output_type": "stream",
     "text": [
      "True\n"
     ]
    }
   ],
   "source": [
    "num = 12321\n",
    "print(str(num) == str(num)[::-1])  # Output: True"
   ]
  },
  {
   "cell_type": "markdown",
   "id": "e5891edd",
   "metadata": {},
   "source": [
    "A palindrome is a number that reads the same forwards and backwards (ex: 121 -> polindrome, 12321 -> non polindrome)."
   ]
  },
  {
   "cell_type": "markdown",
   "id": "14c75a4b",
   "metadata": {},
   "source": []
  },
  {
   "cell_type": "markdown",
   "id": "87a0e575",
   "metadata": {},
   "source": [
    "### Question 4: List Indexing Output"
   ]
  },
  {
   "cell_type": "code",
   "execution_count": 4,
   "id": "09e6e1a0",
   "metadata": {},
   "outputs": [
    {
     "name": "stdout",
     "output_type": "stream",
     "text": [
      "cherry\n"
     ]
    }
   ],
   "source": [
    "fruits = ['apple', 'banana', 'cherry']\n",
    "print(fruits[-1])  # Output: cherry"
   ]
  },
  {
   "cell_type": "markdown",
   "id": "1aa3649d",
   "metadata": {},
   "source": [
    "In the program negative indexing (-1), which in this case is 'cherry'."
   ]
  },
  {
   "cell_type": "markdown",
   "id": "9434496f",
   "metadata": {},
   "source": [
    "### Question 5: Average of Numbers in a List"
   ]
  },
  {
   "cell_type": "code",
   "execution_count": 5,
   "id": "61f6c4e4",
   "metadata": {},
   "outputs": [
    {
     "name": "stdout",
     "output_type": "stream",
     "text": [
      "3.0\n"
     ]
    }
   ],
   "source": [
    "numbers = [1, 2, 3, 4, 5]\n",
    "average = sum(numbers) / len(numbers)\n",
    "print(average)  # Output: 3.0"
   ]
  },
  {
   "cell_type": "markdown",
   "id": "1bbfc1f6",
   "metadata": {},
   "source": [
    "The function calculate_average(numbers) is defined to calculate the average of the numbers in a list.\n",
    "\n",
    "Initialize Variables:\n",
    "\n",
    "total = 0: To store the sum of the numbers.\n",
    "count = 0: To count how many numbers are in the list.\n",
    "\n",
    "The loop iterates through each number in the list:\n",
    "\n",
    "Adds each number to total.\n",
    "Increments count by 1.\n",
    "After the loop, the average is calculated as total / count.\n",
    "The function returns the average value.\n",
    "\n",
    "For the input list [1, 2, 3, 4, 5], the average is 3.0, and this is printed.\n",
    "Section 2: Lists and Dictionaries\n"
   ]
  },
  {
   "cell_type": "markdown",
   "id": "4da43ff9",
   "metadata": {},
   "source": [
    "## Section 2: Lists and Dictionaries"
   ]
  },
  {
   "cell_type": "markdown",
   "id": "badea66b",
   "metadata": {},
   "source": [
    "### Question 6: Dictionary with Student Grades"
   ]
  },
  {
   "cell_type": "code",
   "execution_count": 6,
   "id": "98d9df43",
   "metadata": {},
   "outputs": [
    {
     "name": "stdout",
     "output_type": "stream",
     "text": [
      "{'John': 90, 'Alice': 85, 'Bob': 95}\n"
     ]
    }
   ],
   "source": [
    "students = ['John', 'Alice', 'Bob']\n",
    "grades = [90, 85, 95]\n",
    "student_dict = dict(zip(students, grades))\n",
    "print(student_dict)"
   ]
  },
  {
   "cell_type": "markdown",
   "id": "ed9fecfc",
   "metadata": {},
   "source": [
    "The program creates a dictionary by pairing student names with their respective grades using the zip() function."
   ]
  },
  {
   "cell_type": "markdown",
   "id": "ffc0e3ef",
   "metadata": {},
   "source": [
    "### Question 7: Output of List Slicing"
   ]
  },
  {
   "cell_type": "code",
   "execution_count": 7,
   "id": "256b0e9f",
   "metadata": {},
   "outputs": [
    {
     "name": "stdout",
     "output_type": "stream",
     "text": [
      "[2, 3]\n"
     ]
    }
   ],
   "source": [
    "numbers = [1, 2, 3, 4, 5]\n",
    "print(numbers[1:3])  # Output: [2, 3]"
   ]
  },
  {
   "cell_type": "markdown",
   "id": "50f9c2d3",
   "metadata": {},
   "source": [
    "The slice numbers[1:3] extracts the elements at index 1 and index 2 (i.e., 2 and 3), so the output is [2, 3]."
   ]
  },
  {
   "cell_type": "markdown",
   "id": "008aad5f",
   "metadata": {},
   "source": [
    "### Question 8: Sorting a List"
   ]
  },
  {
   "cell_type": "code",
   "execution_count": 8,
   "id": "36b8d773",
   "metadata": {},
   "outputs": [
    {
     "name": "stdout",
     "output_type": "stream",
     "text": [
      "[2, 4, 5, 6, 9]\n"
     ]
    }
   ],
   "source": [
    "numbers = [4, 2, 9, 6, 5]\n",
    "print(sorted(numbers))  # Output: [2, 4, 5, 6, 9]"
   ]
  },
  {
   "cell_type": "markdown",
   "id": "53ebf716",
   "metadata": {},
   "source": [
    "The program uses the sorted() function to sort the list numbers in ascending order,The result is a new sorted list [2, 4, 5, 6, 9] printed as the output."
   ]
  },
  {
   "cell_type": "markdown",
   "id": "12cf0075",
   "metadata": {},
   "source": [
    "### Question 9: Output of Dictionary .get() Method"
   ]
  },
  {
   "cell_type": "code",
   "execution_count": 9,
   "id": "b032364e",
   "metadata": {},
   "outputs": [
    {
     "name": "stdout",
     "output_type": "stream",
     "text": [
      "10\n"
     ]
    }
   ],
   "source": [
    "fruits = {'apple': 5, 'banana': 10, 'cherry': 15}\n",
    "print(fruits.get('banana'))  # Output: 10"
   ]
  },
  {
   "cell_type": "markdown",
   "id": "7311f9ea",
   "metadata": {},
   "source": [
    "The code retrieves the value associated with the key 'banana' from the dictionary fruits using the get() method and prints it. The output is 10."
   ]
  },
  {
   "cell_type": "markdown",
   "id": "645648f4",
   "metadata": {},
   "source": [
    "### Question 10: List Comprehension for Squares"
   ]
  },
  {
   "cell_type": "code",
   "execution_count": 10,
   "id": "5a23a8f1",
   "metadata": {},
   "outputs": [
    {
     "name": "stdout",
     "output_type": "stream",
     "text": [
      "[1, 4, 9, 16, 25, 36, 49, 64, 81, 100]\n"
     ]
    }
   ],
   "source": [
    "squares = [x ** 2 for x in range(1, 11)]\n",
    "print(squares)"
   ]
  },
  {
   "cell_type": "markdown",
   "id": "124565a1",
   "metadata": {},
   "source": [
    "The program uses a list comprehension to create a list of squares for numbers from 1 to 10.\n",
    "The output is a list of the squares: [1, 4, 9, 16, 25, 36, 49, 64, 81, 100]."
   ]
  },
  {
   "cell_type": "markdown",
   "id": "4ab3d559",
   "metadata": {},
   "source": [
    "## Section 3: Advanced Topics"
   ]
  },
  {
   "cell_type": "markdown",
   "id": "9e5113a5",
   "metadata": {},
   "source": [
    "### Question 11: Factorial Using Recursion"
   ]
  },
  {
   "cell_type": "code",
   "execution_count": 11,
   "id": "9d1c4669",
   "metadata": {},
   "outputs": [
    {
     "name": "stdout",
     "output_type": "stream",
     "text": [
      "120\n"
     ]
    }
   ],
   "source": [
    "def factorial(n):\n",
    "    return 1 if n == 0 else n * factorial(n - 1)\n",
    "\n",
    "print(factorial(5))  # Output: 120"
   ]
  },
  {
   "cell_type": "markdown",
   "id": "1b7d5a64",
   "metadata": {},
   "source": [
    "The program uses recursion to calculate the factorial of a number.\n",
    "It multiplies the number by the factorial of the previous number, continuing until it reaches the base case where the number is 1 or 0."
   ]
  },
  {
   "cell_type": "markdown",
   "id": "75379d2f",
   "metadata": {},
   "source": [
    "### Question 12: Output of reversed() Function"
   ]
  },
  {
   "cell_type": "code",
   "execution_count": 12,
   "id": "4855b208",
   "metadata": {},
   "outputs": [
    {
     "name": "stdout",
     "output_type": "stream",
     "text": [
      "[5, 4, 3, 2, 1]\n"
     ]
    }
   ],
   "source": [
    "numbers = [1, 2, 3, 4, 5]\n",
    "print(list(reversed(numbers)))  # Output: [5, 4, 3, 2, 1]"
   ]
  },
  {
   "cell_type": "markdown",
   "id": "94c4fda9",
   "metadata": {},
   "source": [
    "The code uses the reversed() function to reverse the order of elements in the list numbers.\n",
    "list() is used to convert the reversed iterator into a list.\n",
    "The output is [5, 4, 3, 2, 1]."
   ]
  },
  {
   "cell_type": "markdown",
   "id": "f11d8c6a",
   "metadata": {},
   "source": [
    "### Question 13: Fibonacci Sequence Generator"
   ]
  },
  {
   "cell_type": "code",
   "execution_count": 13,
   "id": "f406b85c",
   "metadata": {},
   "outputs": [
    {
     "name": "stdout",
     "output_type": "stream",
     "text": [
      "[0, 1, 1, 2, 3, 5, 8, 13, 21, 34]\n"
     ]
    }
   ],
   "source": [
    "def fibonacci(n):\n",
    "    a, b = 0, 1\n",
    "    for _ in range(n):\n",
    "        yield a\n",
    "        a, b = b, a + b\n",
    "\n",
    "print(list(fibonacci(10)))"
   ]
  },
  {
   "cell_type": "markdown",
   "id": "7c9eaf3a",
   "metadata": {},
   "source": [
    " The program defines a generator fibonacci_generator() to yield the Fibonacci sequence up to the nth term. We convert the yielded values to a list and print them.\n",
    "For n = 10, the output is the first 10 Fibonacci numbers: [0, 1, 1, 2, 3, 5, 8, 13, 21, 34]."
   ]
  },
  {
   "cell_type": "markdown",
   "id": "52c5bcec",
   "metadata": {},
   "source": [
    "### Question 14: Output of math.pi"
   ]
  },
  {
   "cell_type": "code",
   "execution_count": 14,
   "id": "17515f89",
   "metadata": {},
   "outputs": [
    {
     "name": "stdout",
     "output_type": "stream",
     "text": [
      "3.141592653589793\n"
     ]
    }
   ],
   "source": [
    "import math\n",
    "print(math.pi)  # Output: 3.141592653589793"
   ]
  },
  {
   "cell_type": "markdown",
   "id": "01289b20",
   "metadata": {},
   "source": [
    "The code imports the math module and prints the constant math.pi, which represents the value of π.\n",
    "The output is the value of π: 3.141592653589793."
   ]
  },
  {
   "cell_type": "markdown",
   "id": "fcb1978f",
   "metadata": {},
   "source": [
    "### Question 15: Inverted Star Pyramid"
   ]
  },
  {
   "cell_type": "code",
   "execution_count": 15,
   "id": "c22b5958",
   "metadata": {},
   "outputs": [
    {
     "name": "stdout",
     "output_type": "stream",
     "text": [
      "*********\n",
      " *******\n",
      "  *****\n",
      "   ***\n",
      "    *\n"
     ]
    }
   ],
   "source": [
    "for i in range(5, 0, -1):\n",
    "    print(' ' * (5 - i) + '*' * (2 * i - 1))"
   ]
  },
  {
   "cell_type": "markdown",
   "id": "62916867",
   "metadata": {},
   "source": [
    "The program prints an inverted pyramid of stars with a height of 5.\n",
    "It first prints the stars for the largest row and then reduces the number of stars by 2 in each subsequent row, with spaces added to keep the pyramid shape."
   ]
  }
 ],
 "metadata": {
  "kernelspec": {
   "display_name": "Python 3",
   "language": "python",
   "name": "python3"
  },
  "language_info": {
   "codemirror_mode": {
    "name": "ipython",
    "version": 3
   },
   "file_extension": ".py",
   "mimetype": "text/x-python",
   "name": "python",
   "nbconvert_exporter": "python",
   "pygments_lexer": "ipython3",
   "version": "3.13.2"
  }
 },
 "nbformat": 4,
 "nbformat_minor": 5
}
